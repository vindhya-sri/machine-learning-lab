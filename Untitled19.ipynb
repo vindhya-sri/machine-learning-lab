{
  "nbformat": 4,
  "nbformat_minor": 0,
  "metadata": {
    "colab": {
      "provenance": [],
      "authorship_tag": "ABX9TyMNE9EOEXlthej8qaYYL30J",
      "include_colab_link": true
    },
    "kernelspec": {
      "name": "python3",
      "display_name": "Python 3"
    },
    "language_info": {
      "name": "python"
    }
  },
  "cells": [
    {
      "cell_type": "markdown",
      "metadata": {
        "id": "view-in-github",
        "colab_type": "text"
      },
      "source": [
        "<a href=\"https://colab.research.google.com/github/vindhya-sri/machine-learning-lab/blob/main/Untitled19.ipynb\" target=\"_parent\"><img src=\"https://colab.research.google.com/assets/colab-badge.svg\" alt=\"Open In Colab\"/></a>"
      ]
    },
    {
      "cell_type": "code",
      "source": [
        "import numpy as np\n",
        "\n",
        "def find_s(examples, target_attribute):\n",
        "    # Initialize the hypothesis with the first example (most specific hypothesis)\n",
        "    hypothesis = examples[0][:target_attribute]  # Exclude the target attribute value\n",
        "\n",
        "    # Iterate over all examples\n",
        "    for example in examples:\n",
        "        # If the example is positive, adjust the hypothesis\n",
        "        if example[target_attribute] == 'Yes':  # Assuming 'Yes' is the positive class\n",
        "            for i in range(target_attribute):\n",
        "                # Generalize the hypothesis\n",
        "                if hypothesis[i] != example[i]:\n",
        "                    hypothesis[i] = '?'  # Use '?' to denote generalization\n",
        "\n",
        "    return hypothesis\n",
        "\n",
        "# Example training data\n",
        "# Each example is represented as a list: [Outlook, Temperature, Humidity, Wind, PlayTennis]\n",
        "# The target attribute is the last column: 'PlayTennis' (Yes or No)\n",
        "\n",
        "examples = np.array([\n",
        "    ['Sunny', 'Hot', 'High', 'Weak', 'No'],\n",
        "    ['Sunny', 'Hot', 'High', 'Strong', 'No'],\n",
        "    ['Overcast', 'Hot', 'High', 'Weak', 'Yes'],\n",
        "    ['Rain', 'Mild', 'High', 'Weak', 'Yes'],\n",
        "    ['Rain', 'Cool', 'Normal', 'Weak', 'Yes'],\n",
        "    ['Rain', 'Cool', 'Normal', 'Strong', 'No'],\n",
        "    ['Overcast', 'Cool', 'Normal', 'Strong', 'Yes'],\n",
        "    ['Sunny', 'Mild', 'High', 'Weak', 'No'],\n",
        "    ['Sunny', 'Mild', 'Normal', 'Weak', 'Yes'],\n",
        "    ['Rain', 'Mild', 'Normal', 'Weak', 'Yes'],\n",
        "])\n",
        "\n",
        "# Target attribute column index (last column: PlayTennis)\n",
        "target_attribute = 4\n",
        "\n",
        "# Applying the FIND-S algorithm\n",
        "hypothesis = find_s(examples, target_attribute)\n",
        "\n",
        "print(\"Hypothesis after applying FIND-S algorithm:\", hypothesis)"
      ],
      "metadata": {
        "colab": {
          "base_uri": "https://localhost:8080/"
        },
        "id": "z3GlrRmDFvyr",
        "outputId": "b98d6e38-6512-4cba-d5ed-0c9476013983"
      },
      "execution_count": 2,
      "outputs": [
        {
          "output_type": "stream",
          "name": "stdout",
          "text": [
            "Hypothesis after applying FIND-S algorithm: ['?' '?' '?' '?']\n"
          ]
        }
      ]
    },
    {
      "cell_type": "code",
      "source": [],
      "metadata": {
        "id": "IJzduhCbFypC"
      },
      "execution_count": null,
      "outputs": []
    }
  ]
}